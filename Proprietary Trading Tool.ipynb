{
 "cells": [
  {
   "cell_type": "code",
   "execution_count": 2,
   "id": "5d234476",
   "metadata": {},
   "outputs": [],
   "source": [
    "import pandas_datareader as pdr"
   ]
  },
  {
   "cell_type": "code",
   "execution_count": 5,
   "id": "fad691a2",
   "metadata": {},
   "outputs": [],
   "source": [
    "df = pdr.get_data_tiingo('TSLA', api_key=\"b6cae8248900c9896eeecab0aeab4bed839cb1f5\")"
   ]
  },
  {
   "cell_type": "code",
   "execution_count": 6,
   "id": "a6086ce0",
   "metadata": {},
   "outputs": [],
   "source": [
    "df.to_csv('TSLA.csv')"
   ]
  },
  {
   "cell_type": "code",
   "execution_count": 7,
   "id": "2eb9489a",
   "metadata": {},
   "outputs": [],
   "source": [
    "import pandas as pd"
   ]
  },
  {
   "cell_type": "code",
   "execution_count": 8,
   "id": "5f072f39",
   "metadata": {},
   "outputs": [],
   "source": [
    "df = pd.read_csv('TSLA.csv')"
   ]
  },
  {
   "cell_type": "code",
   "execution_count": 9,
   "id": "c14efed7",
   "metadata": {},
   "outputs": [
    {
     "data": {
      "text/html": [
       "<div>\n",
       "<style scoped>\n",
       "    .dataframe tbody tr th:only-of-type {\n",
       "        vertical-align: middle;\n",
       "    }\n",
       "\n",
       "    .dataframe tbody tr th {\n",
       "        vertical-align: top;\n",
       "    }\n",
       "\n",
       "    .dataframe thead th {\n",
       "        text-align: right;\n",
       "    }\n",
       "</style>\n",
       "<table border=\"1\" class=\"dataframe\">\n",
       "  <thead>\n",
       "    <tr style=\"text-align: right;\">\n",
       "      <th></th>\n",
       "      <th>symbol</th>\n",
       "      <th>date</th>\n",
       "      <th>close</th>\n",
       "      <th>high</th>\n",
       "      <th>low</th>\n",
       "      <th>open</th>\n",
       "      <th>volume</th>\n",
       "      <th>adjClose</th>\n",
       "      <th>adjHigh</th>\n",
       "      <th>adjLow</th>\n",
       "      <th>adjOpen</th>\n",
       "      <th>adjVolume</th>\n",
       "      <th>divCash</th>\n",
       "      <th>splitFactor</th>\n",
       "    </tr>\n",
       "  </thead>\n",
       "  <tbody>\n",
       "    <tr>\n",
       "      <th>0</th>\n",
       "      <td>TSLA</td>\n",
       "      <td>2017-05-24 00:00:00+00:00</td>\n",
       "      <td>310.22</td>\n",
       "      <td>311.00</td>\n",
       "      <td>305.40</td>\n",
       "      <td>306.51</td>\n",
       "      <td>5016931</td>\n",
       "      <td>62.044</td>\n",
       "      <td>62.200</td>\n",
       "      <td>61.080</td>\n",
       "      <td>61.302</td>\n",
       "      <td>25084655</td>\n",
       "      <td>0.0</td>\n",
       "      <td>1.0</td>\n",
       "    </tr>\n",
       "    <tr>\n",
       "      <th>1</th>\n",
       "      <td>TSLA</td>\n",
       "      <td>2017-05-25 00:00:00+00:00</td>\n",
       "      <td>316.83</td>\n",
       "      <td>316.97</td>\n",
       "      <td>307.81</td>\n",
       "      <td>311.02</td>\n",
       "      <td>4819412</td>\n",
       "      <td>63.366</td>\n",
       "      <td>63.394</td>\n",
       "      <td>61.562</td>\n",
       "      <td>62.204</td>\n",
       "      <td>24097060</td>\n",
       "      <td>0.0</td>\n",
       "      <td>1.0</td>\n",
       "    </tr>\n",
       "    <tr>\n",
       "      <th>2</th>\n",
       "      <td>TSLA</td>\n",
       "      <td>2017-05-26 00:00:00+00:00</td>\n",
       "      <td>325.14</td>\n",
       "      <td>325.49</td>\n",
       "      <td>316.31</td>\n",
       "      <td>317.28</td>\n",
       "      <td>7705715</td>\n",
       "      <td>65.028</td>\n",
       "      <td>65.098</td>\n",
       "      <td>63.262</td>\n",
       "      <td>63.456</td>\n",
       "      <td>38528575</td>\n",
       "      <td>0.0</td>\n",
       "      <td>1.0</td>\n",
       "    </tr>\n",
       "    <tr>\n",
       "      <th>3</th>\n",
       "      <td>TSLA</td>\n",
       "      <td>2017-05-30 00:00:00+00:00</td>\n",
       "      <td>335.10</td>\n",
       "      <td>336.28</td>\n",
       "      <td>325.76</td>\n",
       "      <td>326.00</td>\n",
       "      <td>7663064</td>\n",
       "      <td>67.020</td>\n",
       "      <td>67.256</td>\n",
       "      <td>65.152</td>\n",
       "      <td>65.200</td>\n",
       "      <td>38315320</td>\n",
       "      <td>0.0</td>\n",
       "      <td>1.0</td>\n",
       "    </tr>\n",
       "    <tr>\n",
       "      <th>4</th>\n",
       "      <td>TSLA</td>\n",
       "      <td>2017-05-31 00:00:00+00:00</td>\n",
       "      <td>341.01</td>\n",
       "      <td>342.89</td>\n",
       "      <td>335.16</td>\n",
       "      <td>337.69</td>\n",
       "      <td>9863176</td>\n",
       "      <td>68.202</td>\n",
       "      <td>68.578</td>\n",
       "      <td>67.032</td>\n",
       "      <td>67.538</td>\n",
       "      <td>49315880</td>\n",
       "      <td>0.0</td>\n",
       "      <td>1.0</td>\n",
       "    </tr>\n",
       "  </tbody>\n",
       "</table>\n",
       "</div>"
      ],
      "text/plain": [
       "  symbol                       date   close    high     low    open   volume  \\\n",
       "0   TSLA  2017-05-24 00:00:00+00:00  310.22  311.00  305.40  306.51  5016931   \n",
       "1   TSLA  2017-05-25 00:00:00+00:00  316.83  316.97  307.81  311.02  4819412   \n",
       "2   TSLA  2017-05-26 00:00:00+00:00  325.14  325.49  316.31  317.28  7705715   \n",
       "3   TSLA  2017-05-30 00:00:00+00:00  335.10  336.28  325.76  326.00  7663064   \n",
       "4   TSLA  2017-05-31 00:00:00+00:00  341.01  342.89  335.16  337.69  9863176   \n",
       "\n",
       "   adjClose  adjHigh  adjLow  adjOpen  adjVolume  divCash  splitFactor  \n",
       "0    62.044   62.200  61.080   61.302   25084655      0.0          1.0  \n",
       "1    63.366   63.394  61.562   62.204   24097060      0.0          1.0  \n",
       "2    65.028   65.098  63.262   63.456   38528575      0.0          1.0  \n",
       "3    67.020   67.256  65.152   65.200   38315320      0.0          1.0  \n",
       "4    68.202   68.578  67.032   67.538   49315880      0.0          1.0  "
      ]
     },
     "execution_count": 9,
     "metadata": {},
     "output_type": "execute_result"
    }
   ],
   "source": [
    "df.head()"
   ]
  },
  {
   "cell_type": "code",
   "execution_count": 22,
   "id": "9fbd6f9f",
   "metadata": {},
   "outputs": [],
   "source": [
    "df1 = df.reset_index()['close']"
   ]
  },
  {
   "cell_type": "code",
   "execution_count": 23,
   "id": "2bc2f175",
   "metadata": {},
   "outputs": [
    {
     "data": {
      "text/plain": [
       "(1258,)"
      ]
     },
     "execution_count": 23,
     "metadata": {},
     "output_type": "execute_result"
    }
   ],
   "source": [
    "df1.shape"
   ]
  },
  {
   "cell_type": "code",
   "execution_count": 24,
   "id": "cabc36b2",
   "metadata": {},
   "outputs": [
    {
     "data": {
      "text/plain": [
       "0       310.22\n",
       "1       316.83\n",
       "2       325.14\n",
       "3       335.10\n",
       "4       341.01\n",
       "         ...  \n",
       "1253    724.37\n",
       "1254    761.61\n",
       "1255    709.81\n",
       "1256    709.42\n",
       "1257    663.90\n",
       "Name: close, Length: 1258, dtype: float64"
      ]
     },
     "execution_count": 24,
     "metadata": {},
     "output_type": "execute_result"
    }
   ],
   "source": [
    "df1"
   ]
  },
  {
   "cell_type": "code",
   "execution_count": 25,
   "id": "7edcd0b1",
   "metadata": {},
   "outputs": [
    {
     "data": {
      "text/plain": [
       "[<matplotlib.lines.Line2D at 0x23922d7c160>]"
      ]
     },
     "execution_count": 25,
     "metadata": {},
     "output_type": "execute_result"
    },
    {
     "data": {
      "image/png": "[encoded data removed]",
      "text/plain": [
       "<Figure size 432x288 with 1 Axes>"
      ]
     },
     "metadata": {
      "needs_background": "light"
     },
     "output_type": "display_data"
    }
   ],
   "source": [
    "import matplotlib.pyplot as plt\n",
    "plt.plot(df1)"
   ]
  },
  {
   "cell_type": "code",
   "execution_count": null,
   "id": "17820a00",
   "metadata": {},
   "outputs": [],
   "source": []
  }
 ],
 "metadata": {
  "kernelspec": {
   "display_name": "Python 3 (ipykernel)",
   "language": "python",
   "name": "python3"
  },
  "language_info": {
   "codemirror_mode": {
    "name": "ipython",
    "version": 3
   },
   "file_extension": ".py",
   "mimetype": "text/x-python",
   "name": "python",
   "nbconvert_exporter": "python",
   "pygments_lexer": "ipython3",
   "version": "3.9.7"
  }
 },
 "nbformat": 4,
 "nbformat_minor": 5
}
